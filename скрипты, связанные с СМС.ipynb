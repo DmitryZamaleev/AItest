{
 "cells": [
  {
   "cell_type": "markdown",
   "metadata": {},
   "source": [
    "# Скрипты, связанные с смс"
   ]
  },
  {
   "cell_type": "code",
   "execution_count": null,
   "metadata": {},
   "outputs": [],
   "source": [
    "Смс лежат в таблицах:\n",
    "    прод: qiwi.sms_all\n",
    "    тест: qiwi.sms_store_partners_q\n",
    "        \n",
    "Нет связи отправленных смс и транзакций/счетов, в рамках которых они отправлены.\n",
    "Можно связывать по следующему условию:\n",
    "    sms_all.phone = bills.to_agt\n",
    "И брать смс, отправленные между add_date и commit_date счета."
   ]
  },
  {
   "cell_type": "code",
   "execution_count": null,
   "metadata": {},
   "outputs": [],
   "source": [
    "Авторизационные смс (т.е. смс, с кодом авторизации, которые отправляются пользователю, который хочет авторизоваться на чекауте\n",
    "и выбрал способ авторизации смс) можно отобрать по следующим условиям:\n",
    "\n",
    "message_template='smsconfirm.oauth-otp.sms-text' \n",
    "AND\n",
    "( \n",
    "  message_params like 'oplata.qiwi.com%' \n",
    "  OR\n",
    "  message_params like 'Visa QIWI Wallet checkout%'\n",
    ")\n",
    "\n",
    "message_params like 'oplata.qiwi.com%' - новый чекаут\n",
    "message_params like 'Visa QIWI Wallet checkout%' - старый чекаут"
   ]
  },
  {
   "cell_type": "code",
   "execution_count": null,
   "metadata": {},
   "outputs": [],
   "source": [
    "Транзакционные смс (т.е. смс с кодом подтверждения платежа, которые отправляются пользователю\n",
    "для подтверждения оплаты) можно отобрать так:\n",
    "\n",
    "message_template='smsconfirm.bill.v2.sms-text' \n",
    "OR \n",
    "message_template='smsconfirm.bill.v3.sms-text' \n",
    "OR\n",
    "message_template='smsconfirm.bill.v4.sms-text' "
   ]
  },
  {
   "cell_type": "code",
   "execution_count": null,
   "metadata": {},
   "outputs": [],
   "source": [
    "Смс для восстановления пароля именно на чекауте можно отобрать так:\n",
    "message_template = 'smsconfirm.restore-password.sms-text'\n",
    "\n",
    "Для кошелька шаблон другой. Какой - уточнить."
   ]
  },
  {
   "cell_type": "code",
   "execution_count": null,
   "metadata": {},
   "outputs": [],
   "source": [
    "Смс для регистрации именно можно отобрать так:\n",
    "message_template = 'smsconfirm.registration.sms-text'\n",
    "\n",
    "Для чекаута message_params = ****** \n",
    "Для кошелька message_params = ****"
   ]
  },
  {
   "cell_type": "code",
   "execution_count": null,
   "metadata": {},
   "outputs": [],
   "source": [
    "Детали:\n",
    "\n",
    "Смс действительно отправлено, если is_sended = 1\n",
    "\n",
    "Смс отправлено в Казахстане (это важно при подсчете стоимости смс, т.к. за казахские смс платят казахи)\n",
    "end_sys in ( 61, 62, 42, 28)\n",
    "\n",
    "Авторизационные смс до 25 мая 2018 не имели message_params, и поэтому до этой даты невозможно отделить\n",
    "авторизационные смс чекаута и сайта"
   ]
  },
  {
   "cell_type": "code",
   "execution_count": null,
   "metadata": {},
   "outputs": [],
   "source": [
    "Пример скрипта, который считает число отправленных с чекаута авторизационных смс по дням:"
   ]
  },
  {
   "cell_type": "code",
   "execution_count": null,
   "metadata": {},
   "outputs": [],
   "source": [
    "select count(*), trunc(date_add,'DD')\n",
    "from qiwi.sms_all\n",
    "where date_add>=date'2018-05-25'\n",
    "and message_template='smsconfirm.oauth-otp.sms-text' \n",
    "and (message_params like 'oplata.qiwi.com%' or message_params like 'Visa QIWI Wallet checkout%')\n",
    "and is_sended = 1\n",
    "and send_sys not in ( 61, 62, 42, 28)\n",
    "group by trunc(date_add,'DD')"
   ]
  },
  {
   "cell_type": "code",
   "execution_count": null,
   "metadata": {},
   "outputs": [],
   "source": [
    "Пример скрипта, который считает количество авторизационных смс, отправленных при оплате ранее выставленного счета \n",
    "с сайта:"
   ]
  },
  {
   "cell_type": "code",
   "execution_count": null,
   "metadata": {},
   "outputs": [],
   "source": [
    "select count(*),trunc(commit_date,'DD')\n",
    "from qw.bills_q\n",
    "full outer join qw.sms_store_partners_q\n",
    "  on bills_q.to_agt = sms_store_partners_q.phone\n",
    "where commit_date>=date'2018-11-01' \n",
    "  and commit_date<date'2018-12-01'\n",
    "  and extras like '%billref|site%' \n",
    "  and extras like '%oauth%'\n",
    "  and message_template='smsconfirm.oauth-otp.sms-text' \n",
    "  and (message_params like 'oplata.qiwi.com%' or message_params like 'Visa QIWI Wallet checkout%')\n",
    "  and is_sended = 1\n",
    "  and phone = to_agt\n",
    "  and (commit_date-date_send)*24*60<60 \n",
    "  and (commit_date-date_send)*24*60>0\n",
    "group by trunc(commit_date,'DD')"
   ]
  }
 ],
 "metadata": {
  "kernelspec": {
   "display_name": "Python 3",
   "language": "python",
   "name": "python3"
  },
  "language_info": {
   "codemirror_mode": {
    "name": "ipython",
    "version": 3
   },
   "file_extension": ".py",
   "mimetype": "text/x-python",
   "name": "python",
   "nbconvert_exporter": "python",
   "pygments_lexer": "ipython3",
   "version": "3.6.5"
  }
 },
 "nbformat": 4,
 "nbformat_minor": 2
}
